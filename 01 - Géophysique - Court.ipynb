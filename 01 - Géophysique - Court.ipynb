{
 "cells": [
  {
   "cell_type": "markdown",
   "metadata": {},
   "source": [
    "\n",
    "# Biogéophysique#\n",
    "\n",
    "*Notebook créé par Mathieu Poupon*\n",
    "\n",
    "La géophysique est une discipline scientifique dont l'objectif est l'étude des processus physiques sur déroulant sur Terre, telles la dynamique des plaques tectoniques, la circulation atmosphérique ou encore les variations du champ magnétique.\n",
    "\n",
    "**Plan:** <a id='Plan'></a>\n",
    "* [1 - Introduction aux mesures géophysiques](#Introduction)\n",
    "* [2 - Description et prise en main des données](#Description)\n",
    "* [3 - Visualisation des données](#Visualisation)\n",
    "* [4 - Exploitation des données](#Exploitation)\n",
    "* [5 - Aller plus loin](#Extra)"
   ]
  },
  {
   "cell_type": "markdown",
   "metadata": {},
   "source": [
    "# 1. Introduction aux mesures géophysiques <a id='Introduction'></a>\n",
    "[Retour au menu](#Plan)\n",
    "\n",
    "Pour comprendre ces processus, les scientifiques ont besoin de données. De nombreux instruments de mesures ont été développés pour récolter ces données. On distingue deux types de mesures :\n",
    "* Directes : Le résultat est obtenu directement à partir d'un instrument de mesure (ex: un thermomètre indique la température d'un plat)\n",
    "* Indirectes : Le résultat est obtenu par un calcul à partir des données mesurées par l'instrument (ex: un radar indique la vitesse d'une voiture après un calcul utilisant le temps de parcours d'ondes)\n",
    "\n",
    "Dans ce notebook, l'objectif est d'étudier et de comprendre la distribution des reliefs observables à la surface de la Terre. Pour cela, des mesures de topographie de surface et de bathymétrie sont nécessaires."
   ]
  },
  {
   "cell_type": "markdown",
   "metadata": {},
   "source": [
    "## Mesurer les reliefs\n",
    "\n",
    "Il existe plusieurs méthodes pour mesurer les reliefs sur Terre. Les mesures GPS sont utilisées pour connaître des altitudes ponctuelles sur les continents, tandis que la bathymétrie permet de mesurer le relief du plancher océanique.\n",
    "\n",
    "### Mesures GPS\n",
    "\n",
    "Pour déterminer l'altitude d'un point, quatre satellites sont nécessaires. Une constellation de satellites émet des ondes dont le signal est capté par des récepteurs GPS. En mesurant le temps de parcours des ondes, on peut remonter à la distance entre le récepteur et le satellite, puis à la position du récepteur par triangulation.\n",
    "\n",
    "<img src=\"img/01_GNSS-GPS-GLONASS-GALILEO-3D-trilateration.jpg\" width='600'>\n",
    "\n",
    "Cette position (altitude géodésique) est calculée par le récepteur par rapport à un modèle définissant le niveau moyen des océans s'ils recouvraient l'ensemble du globe (ellipsoïde de référence). Pour obtenir l'altitude (orthométrique), il faut soustraire à cette mesure les variations de géoïde, qui correspond à une surface équipotentielle du champ de pesanteur ($\\vec{g}$ est constante et normale à cette surface).\n",
    "\n",
    "Ainsi:\n",
    "$$\n",
    "H_{orthométrique} = h_{géodésique} - N_{géoïde}\n",
    "$$\n",
    "\n",
    "<img src=\"img/01_three_surfaces_f.jpg\" width='600'>\n",
    "\n",
    "\n",
    "### Mesures bathymétriques\n",
    "\n",
    "Pour mesurer le relief du plancher océanique des sondeurs bathymétriques sont utilisés. Ils sont placés sur des bateaux qui réalisent des sections dans l'océan. Ces sondeurs génèrent un signal acoustique se réfléchissant sur le plancher. La profondeur est déduite du temps de trajet de l'onde réfléchie en direction du bateau.\n",
    "\n",
    "<img src=\"img/01_Sondeur-multifaisceaux.jpg\" width='400'>"
   ]
  },
  {
   "cell_type": "markdown",
   "metadata": {},
   "source": [
    "# 2. Description et prise en main des données <a id='Description'></a>\n",
    "[Retour au menu](#Plan)\n",
    "\n",
    "Une fois réalisées, les mesures sont stockées dans des fichiers de format variables pour pouvoir être utilisées et en extraire de l'information. Les données utilisées dans ce notebook sont au format NETCDF (fichier se terminant par l'extension .nc). Il est possible de les ouvrir et de les manipuler avec plusieurs langages de programmation dont Python.\n",
    "\n",
    "## 2.a. Importation des bibliothèques\n",
    "\n",
    "Les bibliothèques regroupent un ensemble de fonction permettant de manipuler et de visualiser facilement des données.\\\n",
    "Pour pouvoir utiliser ces fonctions, il faut importer les bibliothèques dans notre code."
   ]
  },
  {
   "cell_type": "code",
   "execution_count": null,
   "metadata": {},
   "outputs": [],
   "source": [
    "import xarray as xr # Ouverture des fichiers .nc\n",
    "import numpy as np # Manipulation rapide de structures matricielles\n",
    "import matplotlib.pyplot as plt # Représentation graphique des données\n",
    "import metpy # Manipulation de données géophysiques\n",
    "from metpy.interpolate import cross_section # Sections dans des données 2 ou 3D\n",
    "import cartopy.crs as ccrs # Représentation des données sur un planisphère\n",
    "import cartopy.feature as cfeature # Ajout de paramètres graphiques (Continents, Rivières, ...)\n",
    "import warnings\n",
    "import matplotlib.cbook\n",
    "warnings.filterwarnings(\"ignore\",category=matplotlib.cbook.mplDeprecation)\n",
    "warnings.filterwarnings(\"ignore\")"
   ]
  },
  {
   "cell_type": "markdown",
   "metadata": {},
   "source": [
    "La documentation de ces bibliothèques, décrivant leurs fonctionnalités, est accessible facilement en entrant leur nom dans un moteur de recherche.\n",
    "\n",
    "## 2.b. Structure et ouverture des données\n",
    "\n",
    "**Structure: Exemple des données de topographie**\n",
    "\n",
    "Comment sont structurées les données ?\n",
    "* Un **dataset** est un fichier regroupant un ensemble de **variables** mesurées selon une ou plusieurs **dimensions**, ainsi qu'un ensemble d'informations supplémentaire nommé **métadonnées**.  \n",
    "* Les données topographiques sont stockées sous forme d'un **tableau à 2 dimensions** (analogue à une matrice).\n",
    "* Le dataset **\"topo\"** contient donc **z** qui est la **variable** correspondant la mesure de la topographie (topo.z), ainsi que les **deux dimensions** latitude (topo.lat) et longitude (topo.lon) selon lesquelles sont définit les **coordonnées** de la grille sur laquelle est mesurée la variable z. \n",
    "* Il contient également des **métadonnées** telles que le titre du jeu de données, le nom des conventions utilisées, etc ...\n",
    "\n",
    "**Ouverture et extraction des données de topographie**"
   ]
  },
  {
   "cell_type": "code",
   "execution_count": null,
   "metadata": {},
   "outputs": [],
   "source": [
    "# Ouverture des données\n",
    "path = \"Data/ETOPO2v2g_f4.nc\"\n",
    "topo = xr.open_dataset(path)\n",
    "topo = topo.rename_dims({'x':'lon','y':'lat'})\n",
    "topo = topo.rename_vars({'x':'lon','y':'lat'})\n",
    "topo = topo.metpy.parse_cf().squeeze()\n",
    "topo"
   ]
  },
  {
   "cell_type": "markdown",
   "metadata": {},
   "source": [
    "Pour utiliser les données, il suffit de taper le nom du **dataset** suivi du nom de la **variable**, par exemple:"
   ]
  },
  {
   "cell_type": "code",
   "execution_count": null,
   "metadata": {},
   "outputs": [],
   "source": [
    "topo.z"
   ]
  },
  {
   "cell_type": "markdown",
   "metadata": {},
   "source": [
    "# 3. Visualisation des données <a id='Visualisation'></a>\n",
    "\n",
    "[Retour au menu](#Plan)\n",
    "\n",
    "## 3.a. Représentation de l'ensemble des données\n",
    "\n",
    "**Topographie:** \\\n",
    "Les données topographiques peuvent être représentées sur une carte 2D"
   ]
  },
  {
   "cell_type": "code",
   "execution_count": null,
   "metadata": {},
   "outputs": [],
   "source": [
    "fig = plt.figure(figsize=(20,7),dpi=200)\n",
    "ax = fig.add_subplot(111,projection=ccrs.PlateCarree())\n",
    "ax.add_feature(cfeature.COASTLINE)\n",
    "ax.set_xticks(np.linspace(-180,180,9), crs=ccrs.PlateCarree())\n",
    "ax.set_yticks(np.linspace(-90,90,7), crs=ccrs.PlateCarree())\n",
    "ax.set_xlabel(\"Longitude [°E]\")\n",
    "ax.set_ylabel(\"Latitude [°N]\")\n",
    "\n",
    "c=ax.pcolormesh(topo.lon,topo.lat,topo.z,vmin=-6000,vmax=6000,cmap=plt.cm.jet)\n",
    "plt.colorbar(c,label='Topographie [m]')\n",
    "plt.show()"
   ]
  },
  {
   "cell_type": "markdown",
   "metadata": {},
   "source": [
    "**Question:** Quelles structures géologiques sont observables sur cette figure ?\n",
    "\n",
    "**Réponse:**"
   ]
  },
  {
   "cell_type": "markdown",
   "metadata": {},
   "source": [
    "## 3.b Fonctions\n",
    "\n",
    "Pour manipuler plus rapidement les données, on peut créer et utiliser des fonctions:\n",
    "* zoom_topo: faire un zoom de la carte topographique\n",
    "* coupe_topo: faire une coupe de la topographie entre deux points \n",
    "* zoom_coupe_topo: zoom_topo et coupe_topo en même temps\n",
    "\n",
    "### 3.b.i. zoom_topo: faire un zoom de la carte topographique\n",
    "\n",
    "La fonction **zoom_topo** permet d'effectuer un zoom de la carte topographique. \\\n",
    "Elle prend en argument les longitudes et latitudes bornant le zoom:\n",
    "* La longitude (*°E*) doit être un nombre réel compris entre -180 et 180.\n",
    "* La latitude (*°N*) doit être un nombre réel compris entier entre -90 et 90."
   ]
  },
  {
   "cell_type": "code",
   "execution_count": null,
   "metadata": {},
   "outputs": [],
   "source": [
    "def zoom_topo(lon_min, lon_max, lat_min, lat_max):\n",
    "    mask_lon = np.logical_and(topo.lon>lon_min,topo.lon<lon_max)\n",
    "    mask_lat = np.logical_and(topo.lat>lat_min,topo.lat<lat_max)\n",
    "    mask = np.logical_and(mask_lon,mask_lat)\n",
    "\n",
    "    fig = plt.figure(figsize=(20,7),dpi=200)\n",
    "    ax = fig.add_subplot(111,projection=ccrs.PlateCarree())\n",
    "    ax.set_xlim(lon_min,lon_max),ax.set_ylim(lat_min,lat_max)\n",
    "    ax.set_xticks(np.linspace(lon_min,lon_max,9), crs=ccrs.PlateCarree())\n",
    "    ax.set_yticks(np.linspace(lat_min,lat_max,7), crs=ccrs.PlateCarree())\n",
    "    ax.set_xlabel(\"Longitude [°E]\"),ax.set_ylabel(\"Latitude [°N]\")\n",
    "    \n",
    "    c=ax.pcolormesh(topo.lon[mask_lon],topo.lat[mask_lat],topo.z[mask_lat,mask_lon],vmin=-6000,vmax=6000,cmap=plt.cm.jet)\n",
    "    plt.colorbar(c,label='Topographie [m]')"
   ]
  },
  {
   "cell_type": "markdown",
   "metadata": {},
   "source": [
    "Par exemple, pour faire un zoom entre -70°E et 10°E de longitude et 0°N et 60°N de latitude:"
   ]
  },
  {
   "cell_type": "code",
   "execution_count": null,
   "metadata": {},
   "outputs": [],
   "source": [
    "zoom_topo(lon_min = -70, lon_max = 10, lat_min = 0, lat_max = 60)"
   ]
  },
  {
   "cell_type": "markdown",
   "metadata": {},
   "source": [
    "### 3.b.ii. coupe_topo: faire une coupe de la topographie entre deux points\n",
    "La fonction **coupe_topo** permet d'effectuer une coupe de la topographie entre deux points a et b. \\\n",
    "Elle prend en argument les longitudes et latitudes des points aux extrémités de la coupe:\n",
    "* Les longitudes (*°E*) doivent être des nombres réels compris entre -180 et 180.\n",
    "* Les latitudes (*°N*) doivent être des nombres réels compris entre -90 et 90."
   ]
  },
  {
   "cell_type": "code",
   "execution_count": null,
   "metadata": {},
   "outputs": [],
   "source": [
    "def coupe_topo(lon_a, lon_b, lat_a, lat_b):\n",
    "    steps=1000\n",
    "    start,end = (lat_a, lon_a),(lat_b, lon_b)\n",
    "    cross = cross_section(topo, start, end,steps=steps)\n",
    "    L = np.sqrt(((lat_b-lat_a)* 111.11)**2+((lon_b-lon_a)*111.11*np.cos((lat_a+lat_b)/2))**2)/steps\n",
    "    \n",
    "    fig = plt.figure(figsize=(15,5),dpi=200)\n",
    "    ax = fig.add_subplot(111)\n",
    "    ax.plot(cross.index*L,cross.z)\n",
    "    ax.scatter(cross.index[[0,-1]]*L,cross.z[[0,-1]],c=['r','b'])\n",
    "    ax.set_xlabel('Distance [km]'),ax.set_ylabel('Topographie [m]')"
   ]
  },
  {
   "cell_type": "markdown",
   "metadata": {},
   "source": [
    "Par exemple, pour faire une coupe entre les points a et b de coordonées (-60°E;30°N) et (-30°E;20°N):"
   ]
  },
  {
   "cell_type": "code",
   "execution_count": null,
   "metadata": {},
   "outputs": [],
   "source": [
    "coupe_topo(lon_a = -60, lon_b = -30, lat_a = 30, lat_b = 20)"
   ]
  },
  {
   "cell_type": "markdown",
   "metadata": {},
   "source": [
    "### 3.b.iii. zoom_coupe_topo: Faire un zoom et une coupe de la topographie\n",
    "\n",
    "La fonction **zoom_coupe_topo** permet de réprésenter à la fois un zoom et une coupe de la topographie. \\\n",
    "Elle prend en argument les longitudes et latitudes des points aux extrémités de la coupe:\n",
    "* Les longitudes (*°E*) doivent être des nombres réels compris entre -180 et 180.\n",
    "* Les latitudes (*°N*) doivent être des nombres réels compris entre -90 et 90."
   ]
  },
  {
   "cell_type": "code",
   "execution_count": null,
   "metadata": {},
   "outputs": [],
   "source": [
    "def zoom_coupe_topo(lon_a, lon_b, lat_a, lat_b):\n",
    "    steps=1000\n",
    "    start,end = (lat_a, lon_a),(lat_b, lon_b)\n",
    "    cross = cross_section(topo, start, end,steps=steps)\n",
    "    L = np.sqrt(((lat_b-lat_a)* 111.11)**2+((lon_b-lon_a)*111.11*np.cos((lat_a+lat_b)/2))**2)/steps\n",
    "    \n",
    "    lon_min, lon_max = np.min([lon_a, lon_b])-5,np.max([lon_a, lon_b])+5\n",
    "    lat_min, lat_max = np.min([lat_a, lat_b])-5,np.max([lat_a, lat_b])+5\n",
    "    \n",
    "    mask_lon = np.logical_and(topo.lon>lon_min,topo.lon<lon_max)\n",
    "    mask_lat = np.logical_and(topo.lat>lat_min,topo.lat<lat_max)\n",
    "    mask = np.logical_and(mask_lon,mask_lat)\n",
    "\n",
    "    fig = plt.figure(figsize=(15,5),dpi=200)\n",
    "    ax = fig.add_subplot(122)\n",
    "    ax.set_xlim(np.min([lon_a,lon_b])-5,np.max([lon_a,lon_b])+5)\n",
    "    ax.set_ylim(np.min([lat_a,lat_b])-5,np.max([lat_a,lat_b])+5)\n",
    "    ax.set_xlabel(\"Longitude [°E]\"),ax.set_ylabel(\"Latitude [°N]\")\n",
    "    c=ax.pcolormesh(topo.lon[mask_lon],topo.lat[mask_lat],topo.z[mask_lat,mask_lon],vmin=-6000,vmax=6000,cmap=plt.cm.jet)\n",
    "    plt.colorbar(c,label='Topographie [m]')\n",
    "    \n",
    "    ax.plot([lon_a,lon_b],[lat_a,lat_b],c='k')\n",
    "    ax.scatter([lon_a,lon_b],[lat_a,lat_b],c=['r','g'])\n",
    "    \n",
    "    ax = fig.add_subplot(121)\n",
    "    ax.plot(cross.index*L,cross.z)\n",
    "    ax.scatter(cross.index[[0,-1]]*L,cross.z[[0,-1]],c=['r','g'])\n",
    "    ax.set_xlabel('Distance [km]'),ax.set_ylabel('Topographie [m]')"
   ]
  },
  {
   "cell_type": "markdown",
   "metadata": {},
   "source": [
    "Par exemple, pour faire une coupe entre les points a et b de coordonées (130°E;60°N) et (150°E;30°N):"
   ]
  },
  {
   "cell_type": "code",
   "execution_count": null,
   "metadata": {},
   "outputs": [],
   "source": [
    "zoom_coupe_topo(lon_a = 130, lon_b = 150, lat_a = 60, lat_b = 30)"
   ]
  },
  {
   "cell_type": "markdown",
   "metadata": {},
   "source": [
    "# 4. Exploitation des données <a id='Exploitation'></a>\n",
    "\n",
    "[Retour au menu](#Plan)\n",
    "\n",
    "En utilisant les données et les fonctions précédement présentées ci-dessus, répondrez aux questions suivantes:\n",
    "\n",
    "### 4.a. Dorsales rapide vs dorsales lente\n",
    "\n",
    "* Calculer la pente de la dorsale Atlantique:"
   ]
  },
  {
   "cell_type": "code",
   "execution_count": null,
   "metadata": {},
   "outputs": [],
   "source": [
    "zoom_coupe_topo(lon_a = -30, lon_b = -60, lat_a = 27.5, lat_b = 30)"
   ]
  },
  {
   "cell_type": "markdown",
   "metadata": {},
   "source": [
    "* Calculer la pente de la dorsale Pacifique"
   ]
  },
  {
   "cell_type": "code",
   "execution_count": null,
   "metadata": {},
   "outputs": [],
   "source": [
    "zoom_coupe_topo(lon_a = -135, lon_b = -90, lat_a = -45, lat_b = -50)"
   ]
  },
  {
   "cell_type": "markdown",
   "metadata": {},
   "source": [
    "**Question:** Les valeurs sont-elles identiques ? Comment expliquer cela ?\n",
    "\n",
    "**Réponse:**"
   ]
  },
  {
   "cell_type": "markdown",
   "metadata": {},
   "source": [
    "### 4.b. Alignement de points chauds\n",
    "* Identifier une série de point chaud dans l'océan Indien"
   ]
  },
  {
   "cell_type": "code",
   "execution_count": null,
   "metadata": {},
   "outputs": [],
   "source": [
    "zoom_topo(lon_min = 60, lon_max = 120, lat_min = -40, lat_max = 10)"
   ]
  },
  {
   "cell_type": "markdown",
   "metadata": {},
   "source": [
    "### 4.c. Distribution des reliefs\n",
    "\n",
    "Une courbe hypsométrique est une fonction de répartition des élévations d'une zone géographique. Elle permet d'étudier la distribution des reliefs de cette zone."
   ]
  },
  {
   "cell_type": "code",
   "execution_count": null,
   "metadata": {},
   "outputs": [],
   "source": [
    "def hypsometric(pas):\n",
    "    z = np.max(topo.z)\n",
    "    Prop,Prop_cum,Z = [0], [0], [z+pas]\n",
    "\n",
    "    while z>np.min(topo.z): \n",
    "        mask = np.logical_and(topo.z > (z - pas),topo.z < z)\n",
    "        prop = np.sum(mask)/np.size(mask)\n",
    "        prop_cum = prop + Prop_cum[-1]\n",
    "        Prop.append(prop),Z.append(z-pas/2),Prop_cum.append(prop_cum)\n",
    "        z = z - pas\n",
    "        \n",
    "    return np.array(Prop),np.array(Prop_cum),np.array(Z)"
   ]
  },
  {
   "cell_type": "code",
   "execution_count": null,
   "metadata": {},
   "outputs": [],
   "source": [
    "Prop,Prop_cum,Z = hypsometric(pas = 100)\n",
    "\n",
    "fig = plt.figure(figsize=(15,5), dpi = 200)\n",
    "fig.suptitle('Courbe hypsométrique', fontsize=14, fontweight = 'bold')\n",
    "ax = fig.add_subplot(121)\n",
    "ax.plot(Prop,Z)\n",
    "ax.set_xlim(0.05,-0.001),ax.set_ylabel('Topographie [m]'),ax.set_xlabel('Fraction [%]')\n",
    "ax = fig.add_subplot(122)\n",
    "ax.plot(Prop_cum,Z),ax.set_xlabel('Fraction cumulée [%]')\n",
    "plt.show()"
   ]
  },
  {
   "cell_type": "markdown",
   "metadata": {},
   "source": [
    "# 5. Aller plus loin <a id='Extra'></a>\n",
    "\n",
    "[Retour au menu](#Plan)\n",
    "\n",
    "Avec les quelques fonctions précédement définies, vous pouver étudier librement ces données"
   ]
  },
  {
   "cell_type": "code",
   "execution_count": null,
   "metadata": {},
   "outputs": [],
   "source": [
    "\"\"\"\n",
    "Espace de code\n",
    "\"\"\""
   ]
  },
  {
   "cell_type": "code",
   "execution_count": null,
   "metadata": {},
   "outputs": [],
   "source": [
    "!conda env export --from-history -f environment.yml"
   ]
  }
 ],
 "metadata": {
  "kernelspec": {
   "display_name": "Python 3",
   "language": "python",
   "name": "python3"
  },
  "language_info": {
   "codemirror_mode": {
    "name": "ipython",
    "version": 3
   },
   "file_extension": ".py",
   "mimetype": "text/x-python",
   "name": "python",
   "nbconvert_exporter": "python",
   "pygments_lexer": "ipython3",
   "version": "3.8.5"
  }
 },
 "nbformat": 4,
 "nbformat_minor": 4
}
